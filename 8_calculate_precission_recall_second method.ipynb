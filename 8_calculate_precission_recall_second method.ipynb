{
 "cells": [
  {
   "cell_type": "code",
   "execution_count": 12,
   "metadata": {},
   "outputs": [],
   "source": [
    "import pandas as pd\n",
    "import numpy as np\n",
    "from datetime import datetime\n",
    "from sklearn.metrics.pairwise import cosine_similarity\n",
    "from scipy.spatial.distance import cosine"
   ]
  },
  {
   "cell_type": "code",
   "execution_count": 2,
   "metadata": {},
   "outputs": [],
   "source": [
    "friendshipdf_final = pd.read_csv('D://A_thesis/gowalla/out_random/friendship_df_without_threshold.csv')"
   ]
  },
  {
   "cell_type": "code",
   "execution_count": 3,
   "metadata": {},
   "outputs": [],
   "source": [
    "del friendshipdf_final['Unnamed: 0']"
   ]
  },
  {
   "cell_type": "code",
   "execution_count": 4,
   "metadata": {},
   "outputs": [],
   "source": [
    "# friendshipdf_final"
   ]
  },
  {
   "cell_type": "code",
   "execution_count": 5,
   "metadata": {},
   "outputs": [],
   "source": [
    "pre_rec = pd.DataFrame()"
   ]
  },
  {
   "cell_type": "code",
   "execution_count": 6,
   "metadata": {},
   "outputs": [],
   "source": [
    "user_info = friendshipdf_final.loc[friendshipdf_final['userid'] == 1]"
   ]
  },
  {
   "cell_type": "code",
   "execution_count": 7,
   "metadata": {},
   "outputs": [
    {
     "data": {
      "text/html": [
       "<div>\n",
       "<style scoped>\n",
       "    .dataframe tbody tr th:only-of-type {\n",
       "        vertical-align: middle;\n",
       "    }\n",
       "\n",
       "    .dataframe tbody tr th {\n",
       "        vertical-align: top;\n",
       "    }\n",
       "\n",
       "    .dataframe thead th {\n",
       "        text-align: right;\n",
       "    }\n",
       "</style>\n",
       "<table border=\"1\" class=\"dataframe\">\n",
       "  <thead>\n",
       "    <tr style=\"text-align: right;\">\n",
       "      <th></th>\n",
       "      <th>userid</th>\n",
       "      <th>friend_list</th>\n",
       "      <th>friend_list_new</th>\n",
       "      <th>fr_n5</th>\n",
       "      <th>fr_n5_new</th>\n",
       "      <th>fr_n10</th>\n",
       "      <th>fr_n10_new</th>\n",
       "      <th>fr_n15</th>\n",
       "      <th>fr_n15_new</th>\n",
       "      <th>fr_n20</th>\n",
       "      <th>fr_n20_new</th>\n",
       "    </tr>\n",
       "  </thead>\n",
       "  <tbody>\n",
       "    <tr>\n",
       "      <th>0</th>\n",
       "      <td>1</td>\n",
       "      <td>[2, 3, 4, 5, 6, 12, 24, 25, 26, 28, 29, 33, 61...</td>\n",
       "      <td>2, 3, 4, 5, 6, 12, 24, 25, 26, 28, 29, 33, 617...</td>\n",
       "      <td>[2, 5, 12, 110, 6]</td>\n",
       "      <td>2, 5, 12, 110, 6</td>\n",
       "      <td>[2, 5, 12, 110, 6, 29, 3, 25, 4, 77]</td>\n",
       "      <td>2, 5, 12, 110, 6, 29, 3, 25, 4, 77</td>\n",
       "      <td>[2, 5, 12, 110, 6, 29, 3, 25, 4, 77, 67, 33, 9...</td>\n",
       "      <td>2, 5, 12, 110, 6, 29, 3, 25, 4, 77, 67, 33, 92...</td>\n",
       "      <td>[2, 5, 12, 110, 6, 29, 3, 25, 4, 77, 67, 33, 9...</td>\n",
       "      <td>2, 5, 12, 110, 6, 29, 3, 25, 4, 77, 67, 33, 92...</td>\n",
       "    </tr>\n",
       "  </tbody>\n",
       "</table>\n",
       "</div>"
      ],
      "text/plain": [
       "   userid                                        friend_list  \\\n",
       "0       1  [2, 3, 4, 5, 6, 12, 24, 25, 26, 28, 29, 33, 61...   \n",
       "\n",
       "                                     friend_list_new               fr_n5  \\\n",
       "0  2, 3, 4, 5, 6, 12, 24, 25, 26, 28, 29, 33, 617...  [2, 5, 12, 110, 6]   \n",
       "\n",
       "          fr_n5_new                                fr_n10  \\\n",
       "0  2, 5, 12, 110, 6  [2, 5, 12, 110, 6, 29, 3, 25, 4, 77]   \n",
       "\n",
       "                           fr_n10_new  \\\n",
       "0  2, 5, 12, 110, 6, 29, 3, 25, 4, 77   \n",
       "\n",
       "                                              fr_n15  \\\n",
       "0  [2, 5, 12, 110, 6, 29, 3, 25, 4, 77, 67, 33, 9...   \n",
       "\n",
       "                                          fr_n15_new  \\\n",
       "0  2, 5, 12, 110, 6, 29, 3, 25, 4, 77, 67, 33, 92...   \n",
       "\n",
       "                                              fr_n20  \\\n",
       "0  [2, 5, 12, 110, 6, 29, 3, 25, 4, 77, 67, 33, 9...   \n",
       "\n",
       "                                          fr_n20_new  \n",
       "0  2, 5, 12, 110, 6, 29, 3, 25, 4, 77, 67, 33, 92...  "
      ]
     },
     "execution_count": 7,
     "metadata": {},
     "output_type": "execute_result"
    }
   ],
   "source": [
    "user_info"
   ]
  },
  {
   "cell_type": "code",
   "execution_count": 8,
   "metadata": {},
   "outputs": [
    {
     "data": {
      "text/plain": [
       "'2, 3, 4, 5, 6, 12, 24, 25, 26, 28, 29, 33, 6179, 46, 60, 62, 92, 107, 114, 2163, 119, 120, 132, 149, 198, 238, 55541, 4358, 102759, 57718, 2444, 2477, 468, 25096, 16958, 57781, 578, 3516, 2681, 2698, 12954, 2722, 2819, 17183, 74572, 847, 2908, 862, 58215, 876, 4975, 2958, 62484, 3104, 21583, 3201, 3208, 3221, 25818, 6019, 1343, 7512, 3496, 24009, 13800, 13888, 108126, 3741, 1699, 26290, 7880, 7902, 1917, 12169, 6028'"
      ]
     },
     "execution_count": 8,
     "metadata": {},
     "output_type": "execute_result"
    }
   ],
   "source": [
    "user_info['friend_list_new'].values[0]"
   ]
  },
  {
   "cell_type": "code",
   "execution_count": 9,
   "metadata": {},
   "outputs": [],
   "source": [
    "friend_list_new = list(map(int,str(user_info['friend_list_new'].values[0]).split(',')))"
   ]
  },
  {
   "cell_type": "code",
   "execution_count": 10,
   "metadata": {},
   "outputs": [],
   "source": [
    "# friend_list_new"
   ]
  },
  {
   "cell_type": "code",
   "execution_count": 11,
   "metadata": {},
   "outputs": [],
   "source": [
    "fr_n5_new = list(map(int,str(user_info['fr_n5_new'].values[0]).split(',')))"
   ]
  },
  {
   "cell_type": "code",
   "execution_count": 13,
   "metadata": {},
   "outputs": [],
   "source": [
    "eshterak_topn5_friendlist = set(friend_list_new).intersection(set(fr_n5_new))"
   ]
  },
  {
   "cell_type": "code",
   "execution_count": 14,
   "metadata": {},
   "outputs": [
    {
     "data": {
      "text/plain": [
       "[2, 12, 5, 6]"
      ]
     },
     "execution_count": 14,
     "metadata": {},
     "output_type": "execute_result"
    }
   ],
   "source": [
    "eshterak_topn5_friendlist = list(eshterak_topn5_friendlist)\n",
    "eshterak_topn5_friendlist"
   ]
  },
  {
   "cell_type": "code",
   "execution_count": 15,
   "metadata": {
    "scrolled": true
   },
   "outputs": [],
   "source": [
    "eshterak_topn5_friendlist = np.abs(eshterak_topn5_friendlist)"
   ]
  },
  {
   "cell_type": "code",
   "execution_count": 16,
   "metadata": {},
   "outputs": [
    {
     "data": {
      "text/plain": [
       "4"
      ]
     },
     "execution_count": 16,
     "metadata": {},
     "output_type": "execute_result"
    }
   ],
   "source": [
    "len(eshterak_topn5_friendlist)"
   ]
  },
  {
   "cell_type": "code",
   "execution_count": 22,
   "metadata": {},
   "outputs": [
    {
     "data": {
      "text/plain": [
       "0.8"
      ]
     },
     "execution_count": 22,
     "metadata": {},
     "output_type": "execute_result"
    }
   ],
   "source": [
    "precission_n5 = len(eshterak_topn5_friendlist) / len(fr_n5_new)\n",
    "precission_n5"
   ]
  },
  {
   "cell_type": "code",
   "execution_count": 23,
   "metadata": {},
   "outputs": [
    {
     "data": {
      "text/plain": [
       "0.05333333333333334"
      ]
     },
     "execution_count": 23,
     "metadata": {},
     "output_type": "execute_result"
    }
   ],
   "source": [
    "recall_n5 = len(eshterak_topn5_friendlist) / len(friend_list_new)\n",
    "recall_n5"
   ]
  },
  {
   "cell_type": "code",
   "execution_count": null,
   "metadata": {},
   "outputs": [],
   "source": [
    "                                *****************************************\n",
    "                                *****************************************\n",
    "                                *****************************************"
   ]
  },
  {
   "cell_type": "code",
   "execution_count": 19,
   "metadata": {},
   "outputs": [],
   "source": [
    "fr_n10_new = list(map(int,str(user_info['fr_n10_new'].values[0]).split(',')))\n",
    "fr_n15_new = list(map(int,str(user_info['fr_n15_new'].values[0]).split(',')))\n",
    "fr_n20_new = list(map(int,str(user_info['fr_n20_new'].values[0]).split(',')))"
   ]
  },
  {
   "cell_type": "code",
   "execution_count": 24,
   "metadata": {},
   "outputs": [],
   "source": [
    "eshterak_topn10_friendlist = set(friend_list_new).intersection(set(fr_n10_new))"
   ]
  },
  {
   "cell_type": "code",
   "execution_count": 25,
   "metadata": {},
   "outputs": [
    {
     "data": {
      "text/plain": [
       "[2, 3, 4, 5, 6, 12, 25, 29]"
      ]
     },
     "execution_count": 25,
     "metadata": {},
     "output_type": "execute_result"
    }
   ],
   "source": [
    "eshterak_topn10_friendlist = list(eshterak_topn10_friendlist)\n",
    "eshterak_topn10_friendlist"
   ]
  },
  {
   "cell_type": "code",
   "execution_count": 26,
   "metadata": {},
   "outputs": [],
   "source": [
    "eshterak_topn10_friendlist = np.abs(eshterak_topn10_friendlist)"
   ]
  },
  {
   "cell_type": "code",
   "execution_count": 29,
   "metadata": {},
   "outputs": [
    {
     "data": {
      "text/plain": [
       "0.8"
      ]
     },
     "execution_count": 29,
     "metadata": {},
     "output_type": "execute_result"
    }
   ],
   "source": [
    "precission_n10 = len(eshterak_topn10_friendlist) / len(fr_n10_new)\n",
    "precission_n10"
   ]
  },
  {
   "cell_type": "code",
   "execution_count": 30,
   "metadata": {},
   "outputs": [
    {
     "data": {
      "text/plain": [
       "0.10666666666666667"
      ]
     },
     "execution_count": 30,
     "metadata": {},
     "output_type": "execute_result"
    }
   ],
   "source": [
    "recall_n10 = len(eshterak_topn10_friendlist) / len(friend_list_new)\n",
    "recall_n10"
   ]
  },
  {
   "cell_type": "code",
   "execution_count": null,
   "metadata": {},
   "outputs": [],
   "source": [
    "                                *****************************************\n",
    "                                *****************************************\n",
    "                                *****************************************"
   ]
  },
  {
   "cell_type": "code",
   "execution_count": 31,
   "metadata": {},
   "outputs": [],
   "source": [
    "eshterak_topn15_friendlist = set(friend_list_new).intersection(set(fr_n15_new))"
   ]
  },
  {
   "cell_type": "code",
   "execution_count": 32,
   "metadata": {},
   "outputs": [],
   "source": [
    "eshterak_topn15_friendlist = set(friend_list_new).intersection(set(fr_n15_new))"
   ]
  },
  {
   "cell_type": "code",
   "execution_count": 33,
   "metadata": {},
   "outputs": [
    {
     "data": {
      "text/plain": [
       "[33, 2, 3, 4, 5, 6, 12, 92, 25, 60, 29]"
      ]
     },
     "execution_count": 33,
     "metadata": {},
     "output_type": "execute_result"
    }
   ],
   "source": [
    "eshterak_topn15_friendlist = list(eshterak_topn15_friendlist)\n",
    "eshterak_topn15_friendlist"
   ]
  },
  {
   "cell_type": "code",
   "execution_count": 34,
   "metadata": {},
   "outputs": [],
   "source": [
    "eshterak_topn15_friendlist = np.abs(eshterak_topn15_friendlist)"
   ]
  },
  {
   "cell_type": "code",
   "execution_count": 35,
   "metadata": {},
   "outputs": [
    {
     "data": {
      "text/plain": [
       "0.7333333333333333"
      ]
     },
     "execution_count": 35,
     "metadata": {},
     "output_type": "execute_result"
    }
   ],
   "source": [
    "precission_n15 = len(eshterak_topn15_friendlist) / len(fr_n15_new)\n",
    "precission_n15"
   ]
  },
  {
   "cell_type": "code",
   "execution_count": 36,
   "metadata": {},
   "outputs": [
    {
     "data": {
      "text/plain": [
       "0.14666666666666667"
      ]
     },
     "execution_count": 36,
     "metadata": {},
     "output_type": "execute_result"
    }
   ],
   "source": [
    "recall_n15 = len(eshterak_topn15_friendlist) / len(friend_list_new)\n",
    "recall_n15"
   ]
  },
  {
   "cell_type": "code",
   "execution_count": 43,
   "metadata": {},
   "outputs": [
    {
     "name": "stderr",
     "output_type": "stream",
     "text": [
      "C:\\Users\\Lenovo\\anaconda3\\lib\\site-packages\\ipykernel_launcher.py:1: SettingWithCopyWarning: \n",
      "A value is trying to be set on a copy of a slice from a DataFrame.\n",
      "Try using .loc[row_indexer,col_indexer] = value instead\n",
      "\n",
      "See the caveats in the documentation: https://pandas.pydata.org/pandas-docs/stable/user_guide/indexing.html#returning-a-view-versus-a-copy\n",
      "  \"\"\"Entry point for launching an IPython kernel.\n",
      "C:\\Users\\Lenovo\\anaconda3\\lib\\site-packages\\ipykernel_launcher.py:2: SettingWithCopyWarning: \n",
      "A value is trying to be set on a copy of a slice from a DataFrame.\n",
      "Try using .loc[row_indexer,col_indexer] = value instead\n",
      "\n",
      "See the caveats in the documentation: https://pandas.pydata.org/pandas-docs/stable/user_guide/indexing.html#returning-a-view-versus-a-copy\n",
      "  \n",
      "C:\\Users\\Lenovo\\anaconda3\\lib\\site-packages\\ipykernel_launcher.py:3: SettingWithCopyWarning: \n",
      "A value is trying to be set on a copy of a slice from a DataFrame.\n",
      "Try using .loc[row_indexer,col_indexer] = value instead\n",
      "\n",
      "See the caveats in the documentation: https://pandas.pydata.org/pandas-docs/stable/user_guide/indexing.html#returning-a-view-versus-a-copy\n",
      "  This is separate from the ipykernel package so we can avoid doing imports until\n",
      "C:\\Users\\Lenovo\\anaconda3\\lib\\site-packages\\ipykernel_launcher.py:4: SettingWithCopyWarning: \n",
      "A value is trying to be set on a copy of a slice from a DataFrame.\n",
      "Try using .loc[row_indexer,col_indexer] = value instead\n",
      "\n",
      "See the caveats in the documentation: https://pandas.pydata.org/pandas-docs/stable/user_guide/indexing.html#returning-a-view-versus-a-copy\n",
      "  after removing the cwd from sys.path.\n"
     ]
    }
   ],
   "source": [
    "user_info['precission_n5'] = precission_n5\n",
    "user_info['precission_n10'] = precission_n10\n",
    "user_info['precission_n15'] = precission_n15\n",
    "user_info['precission_n20'] = precission_n20"
   ]
  },
  {
   "cell_type": "code",
   "execution_count": 44,
   "metadata": {},
   "outputs": [
    {
     "name": "stderr",
     "output_type": "stream",
     "text": [
      "C:\\Users\\Lenovo\\anaconda3\\lib\\site-packages\\ipykernel_launcher.py:1: SettingWithCopyWarning: \n",
      "A value is trying to be set on a copy of a slice from a DataFrame.\n",
      "Try using .loc[row_indexer,col_indexer] = value instead\n",
      "\n",
      "See the caveats in the documentation: https://pandas.pydata.org/pandas-docs/stable/user_guide/indexing.html#returning-a-view-versus-a-copy\n",
      "  \"\"\"Entry point for launching an IPython kernel.\n",
      "C:\\Users\\Lenovo\\anaconda3\\lib\\site-packages\\ipykernel_launcher.py:2: SettingWithCopyWarning: \n",
      "A value is trying to be set on a copy of a slice from a DataFrame.\n",
      "Try using .loc[row_indexer,col_indexer] = value instead\n",
      "\n",
      "See the caveats in the documentation: https://pandas.pydata.org/pandas-docs/stable/user_guide/indexing.html#returning-a-view-versus-a-copy\n",
      "  \n",
      "C:\\Users\\Lenovo\\anaconda3\\lib\\site-packages\\ipykernel_launcher.py:3: SettingWithCopyWarning: \n",
      "A value is trying to be set on a copy of a slice from a DataFrame.\n",
      "Try using .loc[row_indexer,col_indexer] = value instead\n",
      "\n",
      "See the caveats in the documentation: https://pandas.pydata.org/pandas-docs/stable/user_guide/indexing.html#returning-a-view-versus-a-copy\n",
      "  This is separate from the ipykernel package so we can avoid doing imports until\n",
      "C:\\Users\\Lenovo\\anaconda3\\lib\\site-packages\\ipykernel_launcher.py:4: SettingWithCopyWarning: \n",
      "A value is trying to be set on a copy of a slice from a DataFrame.\n",
      "Try using .loc[row_indexer,col_indexer] = value instead\n",
      "\n",
      "See the caveats in the documentation: https://pandas.pydata.org/pandas-docs/stable/user_guide/indexing.html#returning-a-view-versus-a-copy\n",
      "  after removing the cwd from sys.path.\n"
     ]
    }
   ],
   "source": [
    "user_info['recall_n5']  = recall_n5\n",
    "user_info['recall_n10']  = recall_n10\n",
    "user_info['recall_n15']  = recall_n15\n",
    "user_info['recall_n20']  = recall_n20"
   ]
  },
  {
   "cell_type": "code",
   "execution_count": 46,
   "metadata": {},
   "outputs": [],
   "source": [
    "user_info = user_info.drop(columns=['fr_n5', 'fr_n10' , 'fr_n15' , 'fr_n20'])"
   ]
  },
  {
   "cell_type": "code",
   "execution_count": 47,
   "metadata": {},
   "outputs": [
    {
     "data": {
      "text/html": [
       "<div>\n",
       "<style scoped>\n",
       "    .dataframe tbody tr th:only-of-type {\n",
       "        vertical-align: middle;\n",
       "    }\n",
       "\n",
       "    .dataframe tbody tr th {\n",
       "        vertical-align: top;\n",
       "    }\n",
       "\n",
       "    .dataframe thead th {\n",
       "        text-align: right;\n",
       "    }\n",
       "</style>\n",
       "<table border=\"1\" class=\"dataframe\">\n",
       "  <thead>\n",
       "    <tr style=\"text-align: right;\">\n",
       "      <th></th>\n",
       "      <th>userid</th>\n",
       "      <th>friend_list</th>\n",
       "      <th>friend_list_new</th>\n",
       "      <th>fr_n5_new</th>\n",
       "      <th>fr_n10_new</th>\n",
       "      <th>fr_n15_new</th>\n",
       "      <th>fr_n20_new</th>\n",
       "      <th>precission_n5</th>\n",
       "      <th>precission_n10</th>\n",
       "      <th>precission_n15</th>\n",
       "      <th>precission_n20</th>\n",
       "      <th>recall_n5</th>\n",
       "      <th>recall_n10</th>\n",
       "      <th>recall_n15</th>\n",
       "      <th>recall_n20</th>\n",
       "    </tr>\n",
       "  </thead>\n",
       "  <tbody>\n",
       "    <tr>\n",
       "      <th>0</th>\n",
       "      <td>1</td>\n",
       "      <td>[2, 3, 4, 5, 6, 12, 24, 25, 26, 28, 29, 33, 61...</td>\n",
       "      <td>2, 3, 4, 5, 6, 12, 24, 25, 26, 28, 29, 33, 617...</td>\n",
       "      <td>2, 5, 12, 110, 6</td>\n",
       "      <td>2, 5, 12, 110, 6, 29, 3, 25, 4, 77</td>\n",
       "      <td>2, 5, 12, 110, 6, 29, 3, 25, 4, 77, 67, 33, 92...</td>\n",
       "      <td>2, 5, 12, 110, 6, 29, 3, 25, 4, 77, 67, 33, 92...</td>\n",
       "      <td>0.8</td>\n",
       "      <td>0.8</td>\n",
       "      <td>0.733333</td>\n",
       "      <td>0.65</td>\n",
       "      <td>0.053333</td>\n",
       "      <td>0.106667</td>\n",
       "      <td>0.146667</td>\n",
       "      <td>0.173333</td>\n",
       "    </tr>\n",
       "  </tbody>\n",
       "</table>\n",
       "</div>"
      ],
      "text/plain": [
       "   userid                                        friend_list  \\\n",
       "0       1  [2, 3, 4, 5, 6, 12, 24, 25, 26, 28, 29, 33, 61...   \n",
       "\n",
       "                                     friend_list_new         fr_n5_new  \\\n",
       "0  2, 3, 4, 5, 6, 12, 24, 25, 26, 28, 29, 33, 617...  2, 5, 12, 110, 6   \n",
       "\n",
       "                           fr_n10_new  \\\n",
       "0  2, 5, 12, 110, 6, 29, 3, 25, 4, 77   \n",
       "\n",
       "                                          fr_n15_new  \\\n",
       "0  2, 5, 12, 110, 6, 29, 3, 25, 4, 77, 67, 33, 92...   \n",
       "\n",
       "                                          fr_n20_new  precission_n5  \\\n",
       "0  2, 5, 12, 110, 6, 29, 3, 25, 4, 77, 67, 33, 92...            0.8   \n",
       "\n",
       "   precission_n10  precission_n15  precission_n20  recall_n5  recall_n10  \\\n",
       "0             0.8        0.733333            0.65   0.053333    0.106667   \n",
       "\n",
       "   recall_n15  recall_n20  \n",
       "0    0.146667    0.173333  "
      ]
     },
     "execution_count": 47,
     "metadata": {},
     "output_type": "execute_result"
    }
   ],
   "source": [
    "user_info"
   ]
  },
  {
   "cell_type": "code",
   "execution_count": 48,
   "metadata": {},
   "outputs": [],
   "source": [
    "user_info.to_csv('D://A_thesis/gowalla/out_random/precission_recall.csv')"
   ]
  },
  {
   "cell_type": "code",
   "execution_count": null,
   "metadata": {},
   "outputs": [],
   "source": [
    "                                *****************************************\n",
    "                                *****************************************\n",
    "                                *****************************************"
   ]
  },
  {
   "cell_type": "code",
   "execution_count": 22,
   "metadata": {},
   "outputs": [],
   "source": [
    "friendshipdf_final = pd.read_csv('D://A_thesis/gowalla/out_random/friendship_df_without_threshold_new.csv')"
   ]
  },
  {
   "cell_type": "code",
   "execution_count": 23,
   "metadata": {},
   "outputs": [],
   "source": [
    "# friendshipdf_final"
   ]
  },
  {
   "cell_type": "code",
   "execution_count": 24,
   "metadata": {},
   "outputs": [],
   "source": [
    "del friendshipdf_final['Unnamed: 0']"
   ]
  },
  {
   "cell_type": "code",
   "execution_count": 25,
   "metadata": {},
   "outputs": [],
   "source": [
    "pre_rec = pd.DataFrame()"
   ]
  },
  {
   "cell_type": "code",
   "execution_count": 26,
   "metadata": {},
   "outputs": [
    {
     "data": {
      "text/html": [
       "<div>\n",
       "<style scoped>\n",
       "    .dataframe tbody tr th:only-of-type {\n",
       "        vertical-align: middle;\n",
       "    }\n",
       "\n",
       "    .dataframe tbody tr th {\n",
       "        vertical-align: top;\n",
       "    }\n",
       "\n",
       "    .dataframe thead th {\n",
       "        text-align: right;\n",
       "    }\n",
       "</style>\n",
       "<table border=\"1\" class=\"dataframe\">\n",
       "  <thead>\n",
       "    <tr style=\"text-align: right;\">\n",
       "      <th></th>\n",
       "      <th>userid</th>\n",
       "      <th>friend_list</th>\n",
       "      <th>friend_list_new</th>\n",
       "      <th>fr_n5</th>\n",
       "      <th>fr_n5_new</th>\n",
       "      <th>fr_n10</th>\n",
       "      <th>fr_n10_new</th>\n",
       "      <th>fr_n15</th>\n",
       "      <th>fr_n15_new</th>\n",
       "      <th>fr_n20</th>\n",
       "      <th>fr_n20_new</th>\n",
       "      <th>fr_n25</th>\n",
       "      <th>fr_n30</th>\n",
       "      <th>fr_n35</th>\n",
       "      <th>fr_n40</th>\n",
       "    </tr>\n",
       "  </thead>\n",
       "  <tbody>\n",
       "    <tr>\n",
       "      <th>0</th>\n",
       "      <td>1</td>\n",
       "      <td>[2, 3, 4, 5, 6, 12, 24, 25, 26, 28, 29, 33, 61...</td>\n",
       "      <td>2, 3, 4, 5, 6, 12, 24, 25, 26, 28, 29, 33, 617...</td>\n",
       "      <td>[2, 5, 12, 110, 6]</td>\n",
       "      <td>2, 5, 12, 110, 6</td>\n",
       "      <td>[2, 5, 12, 110, 6, 29, 3, 25, 4, 77]</td>\n",
       "      <td>2, 5, 12, 110, 6, 29, 3, 25, 4, 77</td>\n",
       "      <td>[2, 5, 12, 110, 6, 29, 3, 25, 4, 77, 67, 33, 9...</td>\n",
       "      <td>2, 5, 12, 110, 6, 29, 3, 25, 4, 77, 67, 33, 92...</td>\n",
       "      <td>[2, 5, 12, 110, 6, 29, 3, 25, 4, 77, 67, 33, 9...</td>\n",
       "      <td>2, 5, 12, 110, 6, 29, 3, 25, 4, 77, 67, 33, 92...</td>\n",
       "      <td>2, 5, 12, 110, 6, 29, 3, 25, 4, 77, 67, 33, 92...</td>\n",
       "      <td>2, 5, 12, 110, 6, 29, 3, 25, 4, 77, 67, 33, 92...</td>\n",
       "      <td>2, 5, 12, 110, 6, 29, 3, 25, 4, 77, 67, 33, 92...</td>\n",
       "      <td>2, 5, 12, 110, 6, 29, 3, 25, 4, 77, 67, 33, 92...</td>\n",
       "    </tr>\n",
       "  </tbody>\n",
       "</table>\n",
       "</div>"
      ],
      "text/plain": [
       "   userid                                        friend_list  \\\n",
       "0       1  [2, 3, 4, 5, 6, 12, 24, 25, 26, 28, 29, 33, 61...   \n",
       "\n",
       "                                     friend_list_new               fr_n5  \\\n",
       "0  2, 3, 4, 5, 6, 12, 24, 25, 26, 28, 29, 33, 617...  [2, 5, 12, 110, 6]   \n",
       "\n",
       "          fr_n5_new                                fr_n10  \\\n",
       "0  2, 5, 12, 110, 6  [2, 5, 12, 110, 6, 29, 3, 25, 4, 77]   \n",
       "\n",
       "                           fr_n10_new  \\\n",
       "0  2, 5, 12, 110, 6, 29, 3, 25, 4, 77   \n",
       "\n",
       "                                              fr_n15  \\\n",
       "0  [2, 5, 12, 110, 6, 29, 3, 25, 4, 77, 67, 33, 9...   \n",
       "\n",
       "                                          fr_n15_new  \\\n",
       "0  2, 5, 12, 110, 6, 29, 3, 25, 4, 77, 67, 33, 92...   \n",
       "\n",
       "                                              fr_n20  \\\n",
       "0  [2, 5, 12, 110, 6, 29, 3, 25, 4, 77, 67, 33, 9...   \n",
       "\n",
       "                                          fr_n20_new  \\\n",
       "0  2, 5, 12, 110, 6, 29, 3, 25, 4, 77, 67, 33, 92...   \n",
       "\n",
       "                                              fr_n25  \\\n",
       "0  2, 5, 12, 110, 6, 29, 3, 25, 4, 77, 67, 33, 92...   \n",
       "\n",
       "                                              fr_n30  \\\n",
       "0  2, 5, 12, 110, 6, 29, 3, 25, 4, 77, 67, 33, 92...   \n",
       "\n",
       "                                              fr_n35  \\\n",
       "0  2, 5, 12, 110, 6, 29, 3, 25, 4, 77, 67, 33, 92...   \n",
       "\n",
       "                                              fr_n40  \n",
       "0  2, 5, 12, 110, 6, 29, 3, 25, 4, 77, 67, 33, 92...  "
      ]
     },
     "execution_count": 26,
     "metadata": {},
     "output_type": "execute_result"
    }
   ],
   "source": [
    "user_info = friendshipdf_final.loc[friendshipdf_final['userid'] == 1]\n",
    "user_info"
   ]
  },
  {
   "cell_type": "code",
   "execution_count": 27,
   "metadata": {},
   "outputs": [],
   "source": [
    "fr_n25_new = list(map(int,str(user_info['fr_n25'].values[0]).split(',')))\n",
    "fr_n30_new = list(map(int,str(user_info['fr_n30'].values[0]).split(',')))\n",
    "fr_n35_new = list(map(int,str(user_info['fr_n35'].values[0]).split(',')))\n",
    "fr_n40_new = list(map(int,str(user_info['fr_n40'].values[0]).split(',')))"
   ]
  },
  {
   "cell_type": "code",
   "execution_count": null,
   "metadata": {},
   "outputs": [],
   "source": []
  },
  {
   "cell_type": "code",
   "execution_count": 28,
   "metadata": {},
   "outputs": [],
   "source": [
    "eshterak_topn25_friendlist = set(friend_list_new).intersection(set(fr_n25_new))"
   ]
  },
  {
   "cell_type": "code",
   "execution_count": 29,
   "metadata": {},
   "outputs": [],
   "source": [
    "eshterak_topn25_friendlist = set(friend_list_new).intersection(set(fr_n25_new))"
   ]
  },
  {
   "cell_type": "code",
   "execution_count": 30,
   "metadata": {},
   "outputs": [
    {
     "data": {
      "text/plain": [
       "[33, 2, 3, 4, 5, 6, 132, 12, 120, 92, 114, 24, 25, 60, 29]"
      ]
     },
     "execution_count": 30,
     "metadata": {},
     "output_type": "execute_result"
    }
   ],
   "source": [
    "eshterak_topn25_friendlist = list(eshterak_topn25_friendlist)\n",
    "eshterak_topn25_friendlist"
   ]
  },
  {
   "cell_type": "code",
   "execution_count": 31,
   "metadata": {},
   "outputs": [],
   "source": [
    "eshterak_topn25_friendlist = np.abs(eshterak_topn25_friendlist)"
   ]
  },
  {
   "cell_type": "code",
   "execution_count": 32,
   "metadata": {},
   "outputs": [
    {
     "data": {
      "text/plain": [
       "0.6"
      ]
     },
     "execution_count": 32,
     "metadata": {},
     "output_type": "execute_result"
    }
   ],
   "source": [
    "precission_n25 = len(eshterak_topn25_friendlist) / len(fr_n25_new)\n",
    "precission_n25"
   ]
  },
  {
   "cell_type": "code",
   "execution_count": 33,
   "metadata": {},
   "outputs": [
    {
     "data": {
      "text/plain": [
       "0.2"
      ]
     },
     "execution_count": 33,
     "metadata": {},
     "output_type": "execute_result"
    }
   ],
   "source": [
    "recall_n25 = len(eshterak_topn25_friendlist) / len(friend_list_new)\n",
    "recall_n25"
   ]
  },
  {
   "cell_type": "code",
   "execution_count": null,
   "metadata": {},
   "outputs": [],
   "source": [
    "                                *****************************************\n",
    "                                *****************************************\n",
    "                                *****************************************"
   ]
  },
  {
   "cell_type": "code",
   "execution_count": 34,
   "metadata": {},
   "outputs": [],
   "source": [
    "eshterak_topn30_friendlist = set(friend_list_new).intersection(set(fr_n30_new))"
   ]
  },
  {
   "cell_type": "code",
   "execution_count": 35,
   "metadata": {},
   "outputs": [
    {
     "data": {
      "text/plain": [
       "[33, 2, 3, 4, 5, 6, 132, 107, 12, 120, 92, 114, 24, 25, 26, 60, 29, 62]"
      ]
     },
     "execution_count": 35,
     "metadata": {},
     "output_type": "execute_result"
    }
   ],
   "source": [
    "eshterak_topn30_friendlist = list(eshterak_topn30_friendlist)\n",
    "eshterak_topn30_friendlist"
   ]
  },
  {
   "cell_type": "code",
   "execution_count": 36,
   "metadata": {},
   "outputs": [],
   "source": [
    "eshterak_topn30_friendlist = np.abs(eshterak_topn30_friendlist)"
   ]
  },
  {
   "cell_type": "code",
   "execution_count": 37,
   "metadata": {},
   "outputs": [
    {
     "data": {
      "text/plain": [
       "0.6"
      ]
     },
     "execution_count": 37,
     "metadata": {},
     "output_type": "execute_result"
    }
   ],
   "source": [
    "precission_n30 = len(eshterak_topn30_friendlist) / len(fr_n30_new)\n",
    "precission_n30"
   ]
  },
  {
   "cell_type": "code",
   "execution_count": 38,
   "metadata": {},
   "outputs": [
    {
     "data": {
      "text/plain": [
       "0.24"
      ]
     },
     "execution_count": 38,
     "metadata": {},
     "output_type": "execute_result"
    }
   ],
   "source": [
    "recall_n30 = len(eshterak_topn30_friendlist) / len(friend_list_new)\n",
    "recall_n30"
   ]
  },
  {
   "cell_type": "code",
   "execution_count": null,
   "metadata": {},
   "outputs": [],
   "source": [
    "                                *****************************************\n",
    "                                *****************************************\n",
    "                                *****************************************"
   ]
  },
  {
   "cell_type": "code",
   "execution_count": 39,
   "metadata": {},
   "outputs": [],
   "source": [
    "eshterak_topn35_friendlist = set(friend_list_new).intersection(set(fr_n35_new))"
   ]
  },
  {
   "cell_type": "code",
   "execution_count": 40,
   "metadata": {},
   "outputs": [
    {
     "data": {
      "text/plain": [
       "[2, 3, 4, 5, 6, 132, 12, 24, 25, 26, 29, 33, 60, 62, 92, 107, 238, 114, 120]"
      ]
     },
     "execution_count": 40,
     "metadata": {},
     "output_type": "execute_result"
    }
   ],
   "source": [
    "eshterak_topn35_friendlist = list(eshterak_topn35_friendlist)\n",
    "eshterak_topn35_friendlist"
   ]
  },
  {
   "cell_type": "code",
   "execution_count": 41,
   "metadata": {},
   "outputs": [],
   "source": [
    "eshterak_topn35_friendlist = np.abs(eshterak_topn35_friendlist)"
   ]
  },
  {
   "cell_type": "code",
   "execution_count": 42,
   "metadata": {},
   "outputs": [
    {
     "data": {
      "text/plain": [
       "0.5428571428571428"
      ]
     },
     "execution_count": 42,
     "metadata": {},
     "output_type": "execute_result"
    }
   ],
   "source": [
    "precission_n35 = len(eshterak_topn35_friendlist) / len(fr_n35_new)\n",
    "precission_n35"
   ]
  },
  {
   "cell_type": "code",
   "execution_count": 43,
   "metadata": {},
   "outputs": [
    {
     "data": {
      "text/plain": [
       "0.25333333333333335"
      ]
     },
     "execution_count": 43,
     "metadata": {},
     "output_type": "execute_result"
    }
   ],
   "source": [
    "recall_n35 = len(eshterak_topn35_friendlist) / len(friend_list_new)\n",
    "recall_n35"
   ]
  },
  {
   "cell_type": "code",
   "execution_count": null,
   "metadata": {},
   "outputs": [],
   "source": [
    "                                *****************************************\n",
    "                                *****************************************\n",
    "                                *****************************************"
   ]
  },
  {
   "cell_type": "code",
   "execution_count": 44,
   "metadata": {},
   "outputs": [],
   "source": [
    "eshterak_topn40_friendlist = set(friend_list_new).intersection(set(fr_n40_new))"
   ]
  },
  {
   "cell_type": "code",
   "execution_count": 45,
   "metadata": {},
   "outputs": [
    {
     "data": {
      "text/plain": [
       "[2,\n",
       " 3,\n",
       " 4,\n",
       " 5,\n",
       " 6,\n",
       " 132,\n",
       " 12,\n",
       " 24,\n",
       " 25,\n",
       " 26,\n",
       " 29,\n",
       " 33,\n",
       " 60,\n",
       " 62,\n",
       " 198,\n",
       " 92,\n",
       " 107,\n",
       " 238,\n",
       " 114,\n",
       " 120,\n",
       " 2681]"
      ]
     },
     "execution_count": 45,
     "metadata": {},
     "output_type": "execute_result"
    }
   ],
   "source": [
    "eshterak_topn40_friendlist = list(eshterak_topn40_friendlist)\n",
    "eshterak_topn40_friendlist"
   ]
  },
  {
   "cell_type": "code",
   "execution_count": 46,
   "metadata": {},
   "outputs": [],
   "source": [
    "eshterak_topn40_friendlist = np.abs(eshterak_topn40_friendlist)"
   ]
  },
  {
   "cell_type": "code",
   "execution_count": 47,
   "metadata": {},
   "outputs": [
    {
     "data": {
      "text/plain": [
       "0.525"
      ]
     },
     "execution_count": 47,
     "metadata": {},
     "output_type": "execute_result"
    }
   ],
   "source": [
    "precission_n40 = len(eshterak_topn40_friendlist) / len(fr_n40_new)\n",
    "precission_n40"
   ]
  },
  {
   "cell_type": "code",
   "execution_count": 48,
   "metadata": {},
   "outputs": [
    {
     "data": {
      "text/plain": [
       "0.28"
      ]
     },
     "execution_count": 48,
     "metadata": {},
     "output_type": "execute_result"
    }
   ],
   "source": [
    "recall_n40 = len(eshterak_topn40_friendlist) / len(friend_list_new)\n",
    "recall_n40"
   ]
  },
  {
   "cell_type": "code",
   "execution_count": null,
   "metadata": {},
   "outputs": [],
   "source": [
    "                                *****************************************\n",
    "                                *****************************************\n",
    "                                *****************************************"
   ]
  },
  {
   "cell_type": "code",
   "execution_count": 49,
   "metadata": {},
   "outputs": [
    {
     "name": "stderr",
     "output_type": "stream",
     "text": [
      "C:\\Users\\Lenovo\\anaconda3\\lib\\site-packages\\ipykernel_launcher.py:1: SettingWithCopyWarning: \n",
      "A value is trying to be set on a copy of a slice from a DataFrame.\n",
      "Try using .loc[row_indexer,col_indexer] = value instead\n",
      "\n",
      "See the caveats in the documentation: https://pandas.pydata.org/pandas-docs/stable/user_guide/indexing.html#returning-a-view-versus-a-copy\n",
      "  \"\"\"Entry point for launching an IPython kernel.\n",
      "C:\\Users\\Lenovo\\anaconda3\\lib\\site-packages\\ipykernel_launcher.py:2: SettingWithCopyWarning: \n",
      "A value is trying to be set on a copy of a slice from a DataFrame.\n",
      "Try using .loc[row_indexer,col_indexer] = value instead\n",
      "\n",
      "See the caveats in the documentation: https://pandas.pydata.org/pandas-docs/stable/user_guide/indexing.html#returning-a-view-versus-a-copy\n",
      "  \n",
      "C:\\Users\\Lenovo\\anaconda3\\lib\\site-packages\\ipykernel_launcher.py:3: SettingWithCopyWarning: \n",
      "A value is trying to be set on a copy of a slice from a DataFrame.\n",
      "Try using .loc[row_indexer,col_indexer] = value instead\n",
      "\n",
      "See the caveats in the documentation: https://pandas.pydata.org/pandas-docs/stable/user_guide/indexing.html#returning-a-view-versus-a-copy\n",
      "  This is separate from the ipykernel package so we can avoid doing imports until\n",
      "C:\\Users\\Lenovo\\anaconda3\\lib\\site-packages\\ipykernel_launcher.py:4: SettingWithCopyWarning: \n",
      "A value is trying to be set on a copy of a slice from a DataFrame.\n",
      "Try using .loc[row_indexer,col_indexer] = value instead\n",
      "\n",
      "See the caveats in the documentation: https://pandas.pydata.org/pandas-docs/stable/user_guide/indexing.html#returning-a-view-versus-a-copy\n",
      "  after removing the cwd from sys.path.\n"
     ]
    }
   ],
   "source": [
    "user_info['precission_n25'] = precission_n25\n",
    "user_info['precission_n30'] = precission_n30\n",
    "user_info['precission_n35'] = precission_n35\n",
    "user_info['precission_n40'] = precission_n40"
   ]
  },
  {
   "cell_type": "code",
   "execution_count": 51,
   "metadata": {},
   "outputs": [
    {
     "name": "stderr",
     "output_type": "stream",
     "text": [
      "C:\\Users\\Lenovo\\anaconda3\\lib\\site-packages\\ipykernel_launcher.py:1: SettingWithCopyWarning: \n",
      "A value is trying to be set on a copy of a slice from a DataFrame.\n",
      "Try using .loc[row_indexer,col_indexer] = value instead\n",
      "\n",
      "See the caveats in the documentation: https://pandas.pydata.org/pandas-docs/stable/user_guide/indexing.html#returning-a-view-versus-a-copy\n",
      "  \"\"\"Entry point for launching an IPython kernel.\n",
      "C:\\Users\\Lenovo\\anaconda3\\lib\\site-packages\\ipykernel_launcher.py:2: SettingWithCopyWarning: \n",
      "A value is trying to be set on a copy of a slice from a DataFrame.\n",
      "Try using .loc[row_indexer,col_indexer] = value instead\n",
      "\n",
      "See the caveats in the documentation: https://pandas.pydata.org/pandas-docs/stable/user_guide/indexing.html#returning-a-view-versus-a-copy\n",
      "  \n",
      "C:\\Users\\Lenovo\\anaconda3\\lib\\site-packages\\ipykernel_launcher.py:3: SettingWithCopyWarning: \n",
      "A value is trying to be set on a copy of a slice from a DataFrame.\n",
      "Try using .loc[row_indexer,col_indexer] = value instead\n",
      "\n",
      "See the caveats in the documentation: https://pandas.pydata.org/pandas-docs/stable/user_guide/indexing.html#returning-a-view-versus-a-copy\n",
      "  This is separate from the ipykernel package so we can avoid doing imports until\n",
      "C:\\Users\\Lenovo\\anaconda3\\lib\\site-packages\\ipykernel_launcher.py:4: SettingWithCopyWarning: \n",
      "A value is trying to be set on a copy of a slice from a DataFrame.\n",
      "Try using .loc[row_indexer,col_indexer] = value instead\n",
      "\n",
      "See the caveats in the documentation: https://pandas.pydata.org/pandas-docs/stable/user_guide/indexing.html#returning-a-view-versus-a-copy\n",
      "  after removing the cwd from sys.path.\n"
     ]
    }
   ],
   "source": [
    "user_info['recall_n25']  = recall_n25\n",
    "user_info['recall_n30']  = recall_n30\n",
    "user_info['recall_n35']  = recall_n35\n",
    "user_info['recall_n40']  = recall_n40"
   ]
  },
  {
   "cell_type": "code",
   "execution_count": 52,
   "metadata": {},
   "outputs": [
    {
     "data": {
      "text/html": [
       "<div>\n",
       "<style scoped>\n",
       "    .dataframe tbody tr th:only-of-type {\n",
       "        vertical-align: middle;\n",
       "    }\n",
       "\n",
       "    .dataframe tbody tr th {\n",
       "        vertical-align: top;\n",
       "    }\n",
       "\n",
       "    .dataframe thead th {\n",
       "        text-align: right;\n",
       "    }\n",
       "</style>\n",
       "<table border=\"1\" class=\"dataframe\">\n",
       "  <thead>\n",
       "    <tr style=\"text-align: right;\">\n",
       "      <th></th>\n",
       "      <th>userid</th>\n",
       "      <th>friend_list</th>\n",
       "      <th>friend_list_new</th>\n",
       "      <th>fr_n5</th>\n",
       "      <th>fr_n5_new</th>\n",
       "      <th>fr_n10</th>\n",
       "      <th>fr_n10_new</th>\n",
       "      <th>fr_n15</th>\n",
       "      <th>fr_n15_new</th>\n",
       "      <th>fr_n20</th>\n",
       "      <th>...</th>\n",
       "      <th>fr_n35</th>\n",
       "      <th>fr_n40</th>\n",
       "      <th>precission_n25</th>\n",
       "      <th>precission_n30</th>\n",
       "      <th>precission_n35</th>\n",
       "      <th>precission_n40</th>\n",
       "      <th>recall_n25</th>\n",
       "      <th>recall_n30</th>\n",
       "      <th>recall_n35</th>\n",
       "      <th>recall_n40</th>\n",
       "    </tr>\n",
       "  </thead>\n",
       "  <tbody>\n",
       "    <tr>\n",
       "      <th>0</th>\n",
       "      <td>1</td>\n",
       "      <td>[2, 3, 4, 5, 6, 12, 24, 25, 26, 28, 29, 33, 61...</td>\n",
       "      <td>2, 3, 4, 5, 6, 12, 24, 25, 26, 28, 29, 33, 617...</td>\n",
       "      <td>[2, 5, 12, 110, 6]</td>\n",
       "      <td>2, 5, 12, 110, 6</td>\n",
       "      <td>[2, 5, 12, 110, 6, 29, 3, 25, 4, 77]</td>\n",
       "      <td>2, 5, 12, 110, 6, 29, 3, 25, 4, 77</td>\n",
       "      <td>[2, 5, 12, 110, 6, 29, 3, 25, 4, 77, 67, 33, 9...</td>\n",
       "      <td>2, 5, 12, 110, 6, 29, 3, 25, 4, 77, 67, 33, 92...</td>\n",
       "      <td>[2, 5, 12, 110, 6, 29, 3, 25, 4, 77, 67, 33, 9...</td>\n",
       "      <td>...</td>\n",
       "      <td>2, 5, 12, 110, 6, 29, 3, 25, 4, 77, 67, 33, 92...</td>\n",
       "      <td>2, 5, 12, 110, 6, 29, 3, 25, 4, 77, 67, 33, 92...</td>\n",
       "      <td>0.6</td>\n",
       "      <td>0.6</td>\n",
       "      <td>0.542857</td>\n",
       "      <td>0.525</td>\n",
       "      <td>0.2</td>\n",
       "      <td>0.24</td>\n",
       "      <td>0.253333</td>\n",
       "      <td>0.28</td>\n",
       "    </tr>\n",
       "  </tbody>\n",
       "</table>\n",
       "<p>1 rows × 23 columns</p>\n",
       "</div>"
      ],
      "text/plain": [
       "   userid                                        friend_list  \\\n",
       "0       1  [2, 3, 4, 5, 6, 12, 24, 25, 26, 28, 29, 33, 61...   \n",
       "\n",
       "                                     friend_list_new               fr_n5  \\\n",
       "0  2, 3, 4, 5, 6, 12, 24, 25, 26, 28, 29, 33, 617...  [2, 5, 12, 110, 6]   \n",
       "\n",
       "          fr_n5_new                                fr_n10  \\\n",
       "0  2, 5, 12, 110, 6  [2, 5, 12, 110, 6, 29, 3, 25, 4, 77]   \n",
       "\n",
       "                           fr_n10_new  \\\n",
       "0  2, 5, 12, 110, 6, 29, 3, 25, 4, 77   \n",
       "\n",
       "                                              fr_n15  \\\n",
       "0  [2, 5, 12, 110, 6, 29, 3, 25, 4, 77, 67, 33, 9...   \n",
       "\n",
       "                                          fr_n15_new  \\\n",
       "0  2, 5, 12, 110, 6, 29, 3, 25, 4, 77, 67, 33, 92...   \n",
       "\n",
       "                                              fr_n20  ...  \\\n",
       "0  [2, 5, 12, 110, 6, 29, 3, 25, 4, 77, 67, 33, 9...  ...   \n",
       "\n",
       "                                              fr_n35  \\\n",
       "0  2, 5, 12, 110, 6, 29, 3, 25, 4, 77, 67, 33, 92...   \n",
       "\n",
       "                                              fr_n40 precission_n25  \\\n",
       "0  2, 5, 12, 110, 6, 29, 3, 25, 4, 77, 67, 33, 92...            0.6   \n",
       "\n",
       "  precission_n30 precission_n35  precission_n40  recall_n25  recall_n30  \\\n",
       "0            0.6       0.542857           0.525         0.2        0.24   \n",
       "\n",
       "   recall_n35  recall_n40  \n",
       "0    0.253333        0.28  \n",
       "\n",
       "[1 rows x 23 columns]"
      ]
     },
     "execution_count": 52,
     "metadata": {},
     "output_type": "execute_result"
    }
   ],
   "source": [
    "user_info"
   ]
  },
  {
   "cell_type": "code",
   "execution_count": 53,
   "metadata": {},
   "outputs": [],
   "source": [
    "user_info.to_csv('D://A_thesis/gowalla/out_random/second_idea/precission_recall.csv')\n",
    "user_info.to_csv('D://A_thesis/gowalla/out_random/second_idea/precission_recall_weekday_weekend2.csv')"
   ]
  },
  {
   "cell_type": "code",
   "execution_count": null,
   "metadata": {},
   "outputs": [],
   "source": []
  }
 ],
 "metadata": {
  "kernelspec": {
   "display_name": "Python 3",
   "language": "python",
   "name": "python3"
  },
  "language_info": {
   "codemirror_mode": {
    "name": "ipython",
    "version": 3
   },
   "file_extension": ".py",
   "mimetype": "text/x-python",
   "name": "python",
   "nbconvert_exporter": "python",
   "pygments_lexer": "ipython3",
   "version": "3.7.6"
  }
 },
 "nbformat": 4,
 "nbformat_minor": 4
}
